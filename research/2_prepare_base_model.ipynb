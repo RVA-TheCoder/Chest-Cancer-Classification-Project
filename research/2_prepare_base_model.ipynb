{
 "cells": [
  {
   "cell_type": "code",
   "execution_count": null,
   "metadata": {},
   "outputs": [],
   "source": [
    "import os"
   ]
  },
  {
   "cell_type": "code",
   "execution_count": 2,
   "metadata": {},
   "outputs": [
    {
     "name": "stdout",
     "output_type": "stream",
     "text": [
      "e:\\STUDY\\TENSORFLOW\\Projects\\1_CNN_Project\\research\n"
     ]
    }
   ],
   "source": [
    "print(os.getcwd())"
   ]
  },
  {
   "cell_type": "code",
   "execution_count": 3,
   "metadata": {},
   "outputs": [],
   "source": [
    "os.chdir(\"../\")"
   ]
  },
  {
   "cell_type": "code",
   "execution_count": 4,
   "metadata": {},
   "outputs": [
    {
     "data": {
      "text/plain": [
       "'e:\\\\STUDY\\\\TENSORFLOW\\\\Projects\\\\1_CNN_Project'"
      ]
     },
     "execution_count": 4,
     "metadata": {},
     "output_type": "execute_result"
    }
   ],
   "source": [
    "os.getcwd()"
   ]
  },
  {
   "cell_type": "code",
   "execution_count": null,
   "metadata": {},
   "outputs": [],
   "source": []
  },
  {
   "cell_type": "code",
   "execution_count": 5,
   "metadata": {},
   "outputs": [],
   "source": [
    "# Update the src/cnn_classifier/entity\n",
    "from dataclasses import dataclass\n",
    "from pathlib import Path\n",
    "\n",
    "@dataclass(frozen=True)\n",
    "class PrepareBasseModelConfig:\n",
    "\n",
    "    root_dir: Path\n",
    "    base_model_path : Path\n",
    "    custom_base_model_path: Path\n",
    "    params_include_top : bool\n",
    "    params_weights : str\n",
    "    params_image_size : list\n",
    "    params_learning_rate : float\n",
    "    params_classes : int\n",
    "    "
   ]
  },
  {
   "cell_type": "code",
   "execution_count": null,
   "metadata": {},
   "outputs": [],
   "source": []
  },
  {
   "cell_type": "code",
   "execution_count": 6,
   "metadata": {},
   "outputs": [],
   "source": [
    "# Update the src/cnn_classifier/config/configuration.\n",
    "\n",
    "from cnn_classifier.constants import *\n",
    "from cnn_classifier.utils.common import read_yaml, create_directories"
   ]
  },
  {
   "cell_type": "code",
   "execution_count": null,
   "metadata": {},
   "outputs": [],
   "source": []
  },
  {
   "cell_type": "code",
   "execution_count": 7,
   "metadata": {},
   "outputs": [],
   "source": [
    "class ConfigurationManager:\n",
    "\n",
    "    def __init__(self, config_filepath=CONFIG_FILE_PATH, params_filepath=PARAMS_FILE_PATH):\n",
    "\n",
    "        self.config=read_yaml(config_filepath)\n",
    "        self.params=read_yaml(params_filepath)\n",
    "\n",
    "        # Creating directory\n",
    "        create_directories([self.config.artifacts_root])\n",
    "\n",
    "    def get_prepare_base_model_config(self) -> PrepareBasseModelConfig:\n",
    "\n",
    "        config=self.config.prepare_base_model\n",
    "\n",
    "        create_directories([config.root_dir])\n",
    "\n",
    "        prepare_base_model_config= PrepareBasseModelConfig(\n",
    "            root_dir=Path(config.root_dir),\n",
    "            base_model_path=Path(config.base_model_path),\n",
    "            custom_base_model_path=Path(config.custom_base_model_path),\n",
    "            params_include_top=self.params.INCLUDE_TOP,\n",
    "            params_weights=self.params.WEIGHTS,\n",
    "            params_image_size=self.params.INPUT_SHAPE,\n",
    "            params_learning_rate=self.params.LEARNING_RATE,\n",
    "            params_classes=self.params.CLASSES\n",
    "                )\n",
    "        \n",
    "        return prepare_base_model_config"
   ]
  },
  {
   "cell_type": "code",
   "execution_count": null,
   "metadata": {},
   "outputs": [],
   "source": []
  },
  {
   "cell_type": "code",
   "execution_count": 8,
   "metadata": {},
   "outputs": [],
   "source": [
    "# Update the src/cnn_classifier/components.\n",
    "\n",
    "import os\n",
    "from urllib import request\n",
    "from zipfile import ZipFile\n",
    "import tensorflow as tf\n"
   ]
  },
  {
   "cell_type": "code",
   "execution_count": 9,
   "metadata": {},
   "outputs": [],
   "source": [
    "class PrepareBaseModel:\n",
    "\n",
    "    def __init__(self, config:PrepareBasseModelConfig):\n",
    "\n",
    "        self.config=config\n",
    "\n",
    "    @staticmethod\n",
    "    def save_model(path:Path, model:tf.keras.Model):\n",
    "\n",
    "        model.save(path)\n",
    "\n",
    "    \n",
    "    def get_base_model(self):\n",
    "\n",
    "        self.model=tf.keras.applications.vgg16.VGG16(\n",
    "            include_top=self.config.params_include_top,\n",
    "            weights=self.config.params_weights,\n",
    "            input_shape=self.config.params_image_size\n",
    "        )\n",
    "\n",
    "        # calling static method(save_model) to save the base model\n",
    "        self.save_model(path=self.config.base_model_path,\n",
    "                        model=self.model)\n",
    "        \n",
    "    \n",
    "    @staticmethod\n",
    "    def _prepare_full_model(model, classes, freeze_all:bool, freeze_till:int, learning_rate, input_shape):\n",
    "\n",
    "        # Freeze all layers if freeze_all is True\n",
    "        if freeze_all:\n",
    "            model.trainable = False  # Correctly set layer.trainable\n",
    "        \n",
    "        # Freeze layers up to a specific number if freeze_till is provided\n",
    "        elif (freeze_till is not None) and (freeze_till > 0):\n",
    "            for layer in model.layers[:-freeze_till]:\n",
    "                layer.trainable = False  # Correctly set layer.trainable\n",
    "\n",
    "        # Creating new model on top\n",
    "        inputs=tf.keras.Input(shape=input_shape, name=\"input_layer\")\n",
    "\n",
    "        # Apply Rescaling\n",
    "        rescale_layer=tf.keras.layers.Rescaling(scale=1/255., name=\"rescaling_layer\")\n",
    "        x = rescale_layer(inputs)\n",
    "\n",
    "        # VGG16 model\n",
    "        x = model(x, training=False)\n",
    "\n",
    "        # Hidden layers\n",
    "        flatten_layer = tf.keras.layers.Flatten(name=\"flatten_layer\")(x)\n",
    "\n",
    "        # hidden_layer1 = tf.keras.layers.Dense(\n",
    "        #                                     units=10,\n",
    "        #                                     activation=\"sigmoid\",\n",
    "        #                                     name=\"hidden_layer1\"\n",
    "        #                                     )(flatten_layer)\n",
    "\n",
    "        # hidden_layer2=tf.keras.layers.Dense(units=10, activation=\"relu\", name=\"hidden_layer2\")(hidden_layer1)\n",
    "\n",
    "        #output_layer=tf.keras.layers.Dense(units=1, activation=\"sigmoid\", name=\"output_layer\")(hidden_layer2)\n",
    "\n",
    "        hidden_layer1=tf.keras.layers.Dense(units=5, activation=\"relu\", name=\"hidden_layer1\")(flatten_layer)\n",
    "\n",
    "        output_layer=tf.keras.layers.Dense(units=1, activation=\"sigmoid\", name=\"output_layer\")(hidden_layer1)\n",
    "\n",
    "        full_model = tf.keras.models.Model(\n",
    "                                  inputs=inputs,\n",
    "                                  outputs=output_layer\n",
    "                                  )\n",
    "        \n",
    "        full_model.summary()\n",
    "        \n",
    "        return full_model\n",
    "\n",
    "        \n",
    "    def custom_base_model(self):\n",
    "\n",
    "        self.full_model=self._prepare_full_model(\n",
    "            model=self.model,\n",
    "            classes=self.config.params_classes,\n",
    "            freeze_all=True,\n",
    "            freeze_till=None,\n",
    "            learning_rate=self.config.params_learning_rate,\n",
    "            input_shape=self.config.params_image_size\n",
    "\n",
    "            )\n",
    "        \n",
    "        self.save_model(path=self.config.custom_base_model_path,\n",
    "                        model=self.full_model)\n"
   ]
  },
  {
   "cell_type": "code",
   "execution_count": 10,
   "metadata": {},
   "outputs": [
    {
     "name": "stdout",
     "output_type": "stream",
     "text": [
      "[2024-12-25 18:41:44,323 : INFO : common : yaml file : config\\config.yaml loaded successfully]\n",
      "[2024-12-25 18:41:44,383 : INFO : common : yaml file : params.yaml loaded successfully]\n",
      "[2024-12-25 18:41:44,388 : INFO : common : Created directory at : artifacts]\n",
      "[2024-12-25 18:41:44,391 : INFO : common : Created directory at : artifacts/prepare_base_model]\n",
      "[2024-12-25 18:41:48,703 : WARNING : saving_utils : Compiled the loaded model, but the compiled metrics have yet to be built. `model.compile_metrics` will be empty until you train or evaluate the model.]\n",
      "Model: \"[<keras.layers.reshaping.flatten.Flatten object at 0x000002C2A9287FA0>, <keras.layers.core.dense.Dense object at 0x000002C2A925A800>, <keras.layers.core.dense.Dense object at 0x000002C2A925A770>, <keras.layers.core.dense.Dense object at 0x000002C2A925A290>]\"\n",
      "_________________________________________________________________\n",
      " Layer (type)                Output Shape              Param #   \n",
      "=================================================================\n",
      " block1_conv1 (Conv2D)       (None, 224, 224, 64)      1792      \n",
      "                                                                 \n",
      " block1_conv2 (Conv2D)       (None, 224, 224, 64)      36928     \n",
      "                                                                 \n",
      " block1_pool (MaxPooling2D)  (None, 112, 112, 64)      0         \n",
      "                                                                 \n",
      " block2_conv1 (Conv2D)       (None, 112, 112, 128)     73856     \n",
      "                                                                 \n",
      " block2_conv2 (Conv2D)       (None, 112, 112, 128)     147584    \n",
      "                                                                 \n",
      " block2_pool (MaxPooling2D)  (None, 56, 56, 128)       0         \n",
      "                                                                 \n",
      " block3_conv1 (Conv2D)       (None, 56, 56, 256)       295168    \n",
      "                                                                 \n",
      " block3_conv2 (Conv2D)       (None, 56, 56, 256)       590080    \n",
      "                                                                 \n",
      " block3_conv3 (Conv2D)       (None, 56, 56, 256)       590080    \n",
      "                                                                 \n",
      " block3_pool (MaxPooling2D)  (None, 28, 28, 256)       0         \n",
      "                                                                 \n",
      " block4_conv1 (Conv2D)       (None, 28, 28, 512)       1180160   \n",
      "                                                                 \n",
      " block4_conv2 (Conv2D)       (None, 28, 28, 512)       2359808   \n",
      "                                                                 \n",
      " block4_conv3 (Conv2D)       (None, 28, 28, 512)       2359808   \n",
      "                                                                 \n",
      " block4_pool (MaxPooling2D)  (None, 14, 14, 512)       0         \n",
      "                                                                 \n",
      " block5_conv1 (Conv2D)       (None, 14, 14, 512)       2359808   \n",
      "                                                                 \n",
      " block5_conv2 (Conv2D)       (None, 14, 14, 512)       2359808   \n",
      "                                                                 \n",
      " block5_conv3 (Conv2D)       (None, 14, 14, 512)       2359808   \n",
      "                                                                 \n",
      " block5_pool (MaxPooling2D)  (None, 7, 7, 512)         0         \n",
      "                                                                 \n",
      "=================================================================\n",
      "Total params: 14,714,688\n",
      "Trainable params: 0\n",
      "Non-trainable params: 14,714,688\n",
      "_________________________________________________________________\n"
     ]
    }
   ],
   "source": [
    "try:\n",
    "    config=ConfigurationManager()\n",
    "    prepare_base_model_config=config.get_prepare_base_model_config()\n",
    "    prepare_base_model=PrepareBaseModel(config=prepare_base_model_config)\n",
    "    prepare_base_model.get_base_model()\n",
    "    prepare_base_model.custom_base_model()\n",
    "\n",
    "except Exception as e:\n",
    "    raise e"
   ]
  },
  {
   "cell_type": "code",
   "execution_count": null,
   "metadata": {},
   "outputs": [],
   "source": []
  },
  {
   "cell_type": "code",
   "execution_count": null,
   "metadata": {},
   "outputs": [],
   "source": []
  },
  {
   "cell_type": "code",
   "execution_count": null,
   "metadata": {},
   "outputs": [],
   "source": []
  },
  {
   "cell_type": "code",
   "execution_count": null,
   "metadata": {},
   "outputs": [],
   "source": []
  },
  {
   "cell_type": "code",
   "execution_count": null,
   "metadata": {},
   "outputs": [],
   "source": []
  },
  {
   "cell_type": "code",
   "execution_count": null,
   "metadata": {},
   "outputs": [],
   "source": []
  },
  {
   "cell_type": "code",
   "execution_count": null,
   "metadata": {},
   "outputs": [],
   "source": []
  },
  {
   "cell_type": "code",
   "execution_count": null,
   "metadata": {},
   "outputs": [],
   "source": []
  },
  {
   "cell_type": "code",
   "execution_count": null,
   "metadata": {},
   "outputs": [],
   "source": []
  },
  {
   "cell_type": "code",
   "execution_count": null,
   "metadata": {},
   "outputs": [],
   "source": []
  }
 ],
 "metadata": {
  "kernelspec": {
   "display_name": "CNN_Project",
   "language": "python",
   "name": "python3"
  },
  "language_info": {
   "codemirror_mode": {
    "name": "ipython",
    "version": 3
   },
   "file_extension": ".py",
   "mimetype": "text/x-python",
   "name": "python",
   "nbconvert_exporter": "python",
   "pygments_lexer": "ipython3",
   "version": "3.10.15"
  }
 },
 "nbformat": 4,
 "nbformat_minor": 2
}

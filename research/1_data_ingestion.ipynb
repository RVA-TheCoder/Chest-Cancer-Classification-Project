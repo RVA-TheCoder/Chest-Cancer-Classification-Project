{
 "cells": [
  {
   "cell_type": "code",
   "execution_count": 1,
   "metadata": {},
   "outputs": [],
   "source": [
    "import os"
   ]
  },
  {
   "cell_type": "code",
   "execution_count": 2,
   "metadata": {},
   "outputs": [
    {
     "data": {
      "text/plain": [
       "'e:\\\\STUDY\\\\TENSORFLOW\\\\Projects\\\\1_CNN_Project\\\\research'"
      ]
     },
     "execution_count": 2,
     "metadata": {},
     "output_type": "execute_result"
    }
   ],
   "source": [
    "pwd"
   ]
  },
  {
   "cell_type": "code",
   "execution_count": 3,
   "metadata": {},
   "outputs": [],
   "source": [
    "os.chdir(\"../\")"
   ]
  },
  {
   "cell_type": "code",
   "execution_count": 4,
   "metadata": {},
   "outputs": [
    {
     "data": {
      "text/plain": [
       "'e:\\\\STUDY\\\\TENSORFLOW\\\\Projects\\\\1_CNN_Project'"
      ]
     },
     "execution_count": 4,
     "metadata": {},
     "output_type": "execute_result"
    }
   ],
   "source": [
    "pwd"
   ]
  },
  {
   "cell_type": "code",
   "execution_count": 5,
   "metadata": {},
   "outputs": [],
   "source": [
    "# Update the src/cnn_classifier/entity\n",
    "\n",
    "from dataclasses import dataclass\n",
    "from pathlib import Path\n",
    "\n",
    "\n",
    "@dataclass(frozen=True)\n",
    "class DataIngestionConfig:\n",
    "\n",
    "    \"\"\"\n",
    "    dataclasses provides a decorator (@dataclass) to automatically generate methods like\n",
    "    __init__, __repr__, and __eq__ for classes, thus simplifying the creation\n",
    "     of data containers.\n",
    "\n",
    "    root_dir, source_url, local_data_file, unzip_dir : arguments to __init__ method.\n",
    "\n",
    "    \"\"\"\n",
    "    root_dir : Path\n",
    "    source_url : str\n",
    "    local_data_file : Path\n",
    "    unzip_dir : Path\n",
    "    "
   ]
  },
  {
   "cell_type": "markdown",
   "metadata": {},
   "source": []
  },
  {
   "cell_type": "code",
   "execution_count": 6,
   "metadata": {},
   "outputs": [],
   "source": [
    "from cnn_classifier.constants import *\n",
    "from cnn_classifier.utils.common import read_yaml, create_directories"
   ]
  },
  {
   "cell_type": "code",
   "execution_count": 8,
   "metadata": {},
   "outputs": [],
   "source": [
    "# Update the src/cnn_classifier/config/configuration.\n",
    "\n",
    "class ConfigurationManager:\n",
    "\n",
    "    def __init__(self, config_filepath=CONFIG_FILE_PATH, params_filepath=PARAMS_FILE_PATH):\n",
    "\n",
    "        self.config=read_yaml(config_filepath)\n",
    "        self.params=read_yaml(params_filepath)\n",
    "\n",
    "        # Creating directory\n",
    "        create_directories([self.config.artifacts_root])\n",
    "\n",
    "    def get_data_ingestion_config(self) -> DataIngestionConfig:\n",
    "\n",
    "        \"\"\"\n",
    "        returns the object of DataIngestionConfig class\n",
    "        \"\"\"\n",
    "        config = self.config.data_ingestion\n",
    "\n",
    "        # Create a directory\n",
    "        create_directories([config.root_dir])\n",
    "\n",
    "        # Creating an object of DataIngestionConfig class\n",
    "        data_ingestion_config=DataIngestionConfig(\n",
    "            root_dir=config.root_dir,\n",
    "            source_url=config.source_url,\n",
    "            local_data_file=config.local_data_file,\n",
    "            unzip_dir=config.unzip_dir\n",
    "            )\n",
    "\n",
    "        return data_ingestion_config"
   ]
  },
  {
   "cell_type": "code",
   "execution_count": null,
   "metadata": {},
   "outputs": [],
   "source": []
  },
  {
   "cell_type": "code",
   "execution_count": 9,
   "metadata": {},
   "outputs": [],
   "source": [
    "import os\n",
    "import zipfile\n",
    "import gdown\n",
    "from cnn_classifier import logger\n",
    "from cnn_classifier.utils.common import get_size"
   ]
  },
  {
   "cell_type": "code",
   "execution_count": 13,
   "metadata": {},
   "outputs": [],
   "source": [
    "# \n",
    "class DataIngestion:\n",
    "\n",
    "    def __init__(self, config:DataIngestionConfig):\n",
    "\n",
    "        self.config = config\n",
    "\n",
    "\n",
    "    def download_file(self) ->str :\n",
    "\n",
    "        \"\"\"\n",
    "        fetch data from the url.\n",
    "        \"\"\"\n",
    "\n",
    "        try :\n",
    "            \n",
    "            # url from where data will be downloaded\n",
    "            dataset_url=self.config.source_url\n",
    "            # where data will be saved\n",
    "            zip_download_dir=self.config.local_data_file\n",
    "            # creating root directory for data ingestion if not already been created\n",
    "            os.makedirs(name=self.config.root_dir , exist_ok=True)\n",
    "\n",
    "            file_id=dataset_url.split(\"/\")[-2]\n",
    "            prefix=\"https://drive.google.com/uc?/export=download&id=\"\n",
    "            # downloading the file from gdrive\n",
    "            file_url=prefix+file_id\n",
    "            logger.info(f\"Downloading data from {dataset_url} into file {zip_download_dir}\")\n",
    "            gdown.download(url=file_url,output=zip_download_dir)\n",
    "            logger.info(f\"Downloaded data from {dataset_url} into file {zip_download_dir}\")\n",
    "\n",
    "        except Exception as e:\n",
    "            raise e\n",
    "        \n",
    "    def extract_zip_file(self):\n",
    "\n",
    "        \"\"\"\n",
    "        This method extracts the zip file.\n",
    "        \"\"\"\n",
    "        unzip_dir_path=self.config.unzip_dir\n",
    "\n",
    "        # Creating the directory where data zip file will be extracted, if not created already\n",
    "        os.makedirs(name=unzip_dir_path, exist_ok=True)\n",
    "\n",
    "        with zipfile.ZipFile(file=self.config.local_data_file, mode='r') as zip_ref:\n",
    "            \n",
    "            # path : specifies a  directory to extract to.\n",
    "            zip_ref.extractall(path=unzip_dir_path)\n",
    "\n"
   ]
  },
  {
   "cell_type": "code",
   "execution_count": null,
   "metadata": {},
   "outputs": [],
   "source": []
  },
  {
   "cell_type": "code",
   "execution_count": 15,
   "metadata": {},
   "outputs": [
    {
     "name": "stdout",
     "output_type": "stream",
     "text": [
      "[2024-12-16 18:18:27,435 : INFO : common : yaml file : config\\config.yaml loaded successfully]\n",
      "[2024-12-16 18:18:27,439 : INFO : common : yaml file : params.yaml loaded successfully]\n",
      "[2024-12-16 18:18:27,442 : INFO : common : Created directory at : artifacts]\n",
      "[2024-12-16 18:18:27,444 : INFO : common : Created directory at : artifacts/data_ingestion]\n",
      "[2024-12-16 18:18:27,447 : INFO : 3206177205 : Downloading data from https://drive.google.com/file/d/1wLkVKHAOdJHmufkkgP65uGe3WLyu3WsO/view?usp=sharing into file artifacts/data_ingestion/data.zip]\n"
     ]
    },
    {
     "name": "stderr",
     "output_type": "stream",
     "text": [
      "Downloading...\n",
      "From (original): https://drive.google.com/uc?/export=download&id=1wLkVKHAOdJHmufkkgP65uGe3WLyu3WsO\n",
      "From (redirected): https://drive.google.com/uc?%2Fexport=download&id=1wLkVKHAOdJHmufkkgP65uGe3WLyu3WsO&confirm=t&uuid=ad7a1a63-ae39-4ff4-806d-cea5166daa3f\n",
      "To: e:\\STUDY\\TENSORFLOW\\Projects\\1_CNN_Project\\artifacts\\data_ingestion\\data.zip\n",
      "100%|██████████| 80.3M/80.3M [00:40<00:00, 2.00MB/s]"
     ]
    },
    {
     "name": "stdout",
     "output_type": "stream",
     "text": [
      "[2024-12-16 18:19:12,519 : INFO : 3206177205 : Downloaded data from https://drive.google.com/file/d/1wLkVKHAOdJHmufkkgP65uGe3WLyu3WsO/view?usp=sharing into file artifacts/data_ingestion/data.zip]\n"
     ]
    },
    {
     "name": "stderr",
     "output_type": "stream",
     "text": [
      "\n"
     ]
    }
   ],
   "source": [
    "# Defining the STEPS for Data Ingestion pipeline:\n",
    "try :\n",
    "    config=ConfigurationManager()\n",
    "    data_ingestion_config=config.get_data_ingestion_config()\n",
    "    data_ingestion=DataIngestion(config=data_ingestion_config)\n",
    "    data_ingestion.download_file()\n",
    "    data_ingestion.extract_zip_file()\n",
    "\n",
    "except Exception as e:\n",
    "    raise e\n",
    "\n"
   ]
  },
  {
   "cell_type": "code",
   "execution_count": null,
   "metadata": {},
   "outputs": [],
   "source": []
  },
  {
   "cell_type": "code",
   "execution_count": null,
   "metadata": {},
   "outputs": [],
   "source": []
  },
  {
   "cell_type": "code",
   "execution_count": null,
   "metadata": {},
   "outputs": [],
   "source": []
  },
  {
   "cell_type": "code",
   "execution_count": null,
   "metadata": {},
   "outputs": [],
   "source": []
  },
  {
   "cell_type": "code",
   "execution_count": null,
   "metadata": {},
   "outputs": [],
   "source": []
  },
  {
   "cell_type": "code",
   "execution_count": null,
   "metadata": {},
   "outputs": [],
   "source": []
  },
  {
   "cell_type": "code",
   "execution_count": null,
   "metadata": {},
   "outputs": [],
   "source": []
  },
  {
   "cell_type": "code",
   "execution_count": null,
   "metadata": {},
   "outputs": [],
   "source": []
  },
  {
   "cell_type": "code",
   "execution_count": null,
   "metadata": {},
   "outputs": [],
   "source": []
  },
  {
   "cell_type": "code",
   "execution_count": null,
   "metadata": {},
   "outputs": [],
   "source": []
  },
  {
   "cell_type": "code",
   "execution_count": null,
   "metadata": {},
   "outputs": [],
   "source": []
  },
  {
   "cell_type": "code",
   "execution_count": null,
   "metadata": {},
   "outputs": [],
   "source": []
  }
 ],
 "metadata": {
  "kernelspec": {
   "display_name": "CNN_Project",
   "language": "python",
   "name": "python3"
  },
  "language_info": {
   "codemirror_mode": {
    "name": "ipython",
    "version": 3
   },
   "file_extension": ".py",
   "mimetype": "text/x-python",
   "name": "python",
   "nbconvert_exporter": "python",
   "pygments_lexer": "ipython3",
   "version": "3.10.15"
  }
 },
 "nbformat": 4,
 "nbformat_minor": 2
}

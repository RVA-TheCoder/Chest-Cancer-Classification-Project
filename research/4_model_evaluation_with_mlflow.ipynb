{
 "cells": [
  {
   "cell_type": "code",
   "execution_count": 1,
   "metadata": {},
   "outputs": [],
   "source": [
    "import os"
   ]
  },
  {
   "cell_type": "code",
   "execution_count": 2,
   "metadata": {},
   "outputs": [
    {
     "data": {
      "text/plain": [
       "'e:\\\\STUDY\\\\TENSORFLOW\\\\Projects\\\\1_CNN_Project\\\\research'"
      ]
     },
     "execution_count": 2,
     "metadata": {},
     "output_type": "execute_result"
    }
   ],
   "source": [
    "os.getcwd()"
   ]
  },
  {
   "cell_type": "code",
   "execution_count": 3,
   "metadata": {},
   "outputs": [],
   "source": [
    "os.chdir(\"../\")"
   ]
  },
  {
   "cell_type": "code",
   "execution_count": 4,
   "metadata": {},
   "outputs": [
    {
     "data": {
      "text/plain": [
       "'e:\\\\STUDY\\\\TENSORFLOW\\\\Projects\\\\1_CNN_Project'"
      ]
     },
     "execution_count": 4,
     "metadata": {},
     "output_type": "execute_result"
    }
   ],
   "source": [
    "os.getcwd()"
   ]
  },
  {
   "cell_type": "code",
   "execution_count": 5,
   "metadata": {},
   "outputs": [
    {
     "data": {
      "text/plain": [
       "'\\nInitialize a DagsHub repository or DagsHub-related functionality.\\n\\nInitialization includes:\\nCreates a repository on DagsHub if it doesn’t exist yet.\\n\\nIf dvc flag is set, adds the DagsHub repository as a dvc remote.\\n\\nIf mlflow flag is set, initializes MLflow environment variables to enable \\nlogging experiments into the DagsHub hosted MLflow. That means that if you call \\ndagshub.init() in your script, then any MLflow function called later in the script\\nwill log to the DagsHub hosted MLflow.\\n\\n'"
      ]
     },
     "execution_count": 5,
     "metadata": {},
     "output_type": "execute_result"
    }
   ],
   "source": [
    "import dagshub\n",
    "\n",
    "\"\"\"\n",
    "Initialize a DagsHub repository or DagsHub-related functionality.\n",
    "\n",
    "Initialization includes:\n",
    "Creates a repository on DagsHub if it doesn’t exist yet.\n",
    "\n",
    "If dvc flag is set, adds the DagsHub repository as a dvc remote.\n",
    "\n",
    "If mlflow flag is set, initializes MLflow environment variables to enable \n",
    "logging experiments into the DagsHub hosted MLflow. That means that if you call \n",
    "dagshub.init() in your script, then any MLflow function called later in the script\n",
    "will log to the DagsHub hosted MLflow.\n",
    "\n",
    "\"\"\"\n",
    "# Approach1 : \n",
    "\n",
    "# dagshub.init(repo_owner='Aakash00004', \n",
    "#              repo_name='Chest-Cancer-Classification-Project', \n",
    "#              mlflow=True)\n",
    "\n",
    "# import mlflow\n",
    "\n",
    "# with mlflow.start_run():\n",
    "#     mlflow.log_param('Learning rate', 0.01)\n",
    "#     mlflow.log_metric('Accuracy', 0.8)\n",
    "\n",
    "\n",
    "# Approach 2 : \n",
    "\n",
    "# below code : use it when we want to give the experiment name and inside it we want to store all our runs for the experiment tracking.  \n",
    "\n",
    "# dagshub.init(repo_owner='Aakash00004',\n",
    "#              repo_name='Chest-Cancer-Classification-Project',\n",
    "#              mlflow=True)\n",
    "\n",
    "# import mlflow\n",
    "\n",
    "# mlflow.set_experiment(\"My Chest Cancer Experiment\")  # Set the experiment name\n",
    "\n",
    "# with mlflow.start_run():\n",
    "#     mlflow.log_param('Learning rate', 0.01)\n",
    "#     mlflow.log_metric('Accuracy', 0.8)"
   ]
  },
  {
   "cell_type": "markdown",
   "metadata": {},
   "source": [
    "#### NOTE : \n",
    "- below credentials are stored in the current session state only."
   ]
  },
  {
   "cell_type": "code",
   "execution_count": 6,
   "metadata": {},
   "outputs": [],
   "source": [
    "# Uncomment below lines of code iff above dagshub code along with mlflow is uncommented and ran\n",
    "\n",
    "#print(os.getenv(\"MLFLOW_TRACKING_URI\"))\n",
    "#print(os.getenv(\"MLFLOW_TRACKING_USERNAME\") )\n",
    "#print(os.getenv(\"MLFLOW_TRACKING_PASSWORD\") )\n",
    "# '591674d59a270a3d488ce0b6498bc23ee1aa4d5f'"
   ]
  },
  {
   "cell_type": "code",
   "execution_count": null,
   "metadata": {},
   "outputs": [],
   "source": []
  },
  {
   "cell_type": "code",
   "execution_count": 7,
   "metadata": {},
   "outputs": [],
   "source": [
    "import tensorflow as tf"
   ]
  },
  {
   "cell_type": "code",
   "execution_count": 8,
   "metadata": {},
   "outputs": [],
   "source": [
    "# load the trained model\n",
    "model=tf.keras.models.load_model(\"trained_model/training/trained_model.keras\")"
   ]
  },
  {
   "cell_type": "code",
   "execution_count": 9,
   "metadata": {},
   "outputs": [
    {
     "data": {
      "text/html": [
       "<pre style=\"white-space:pre;overflow-x:auto;line-height:normal;font-family:Menlo,'DejaVu Sans Mono',consolas,'Courier New',monospace\"><span style=\"font-weight: bold\">Model: \"functional\"</span>\n",
       "</pre>\n"
      ],
      "text/plain": [
       "\u001b[1mModel: \"functional\"\u001b[0m\n"
      ]
     },
     "metadata": {},
     "output_type": "display_data"
    },
    {
     "data": {
      "text/html": [
       "<pre style=\"white-space:pre;overflow-x:auto;line-height:normal;font-family:Menlo,'DejaVu Sans Mono',consolas,'Courier New',monospace\">┏━━━━━━━━━━━━━━━━━━━━━━━━━━━━━━━━━┳━━━━━━━━━━━━━━━━━━━━━━━━┳━━━━━━━━━━━━━━━┓\n",
       "┃<span style=\"font-weight: bold\"> Layer (type)                    </span>┃<span style=\"font-weight: bold\"> Output Shape           </span>┃<span style=\"font-weight: bold\">       Param # </span>┃\n",
       "┡━━━━━━━━━━━━━━━━━━━━━━━━━━━━━━━━━╇━━━━━━━━━━━━━━━━━━━━━━━━╇━━━━━━━━━━━━━━━┩\n",
       "│ input_layer (<span style=\"color: #0087ff; text-decoration-color: #0087ff\">InputLayer</span>)        │ (<span style=\"color: #00d7ff; text-decoration-color: #00d7ff\">None</span>, <span style=\"color: #00af00; text-decoration-color: #00af00\">224</span>, <span style=\"color: #00af00; text-decoration-color: #00af00\">224</span>, <span style=\"color: #00af00; text-decoration-color: #00af00\">3</span>)    │             <span style=\"color: #00af00; text-decoration-color: #00af00\">0</span> │\n",
       "├─────────────────────────────────┼────────────────────────┼───────────────┤\n",
       "│ rescaling_layer (<span style=\"color: #0087ff; text-decoration-color: #0087ff\">Rescaling</span>)     │ (<span style=\"color: #00d7ff; text-decoration-color: #00d7ff\">None</span>, <span style=\"color: #00af00; text-decoration-color: #00af00\">224</span>, <span style=\"color: #00af00; text-decoration-color: #00af00\">224</span>, <span style=\"color: #00af00; text-decoration-color: #00af00\">3</span>)    │             <span style=\"color: #00af00; text-decoration-color: #00af00\">0</span> │\n",
       "├─────────────────────────────────┼────────────────────────┼───────────────┤\n",
       "│ vgg16 (<span style=\"color: #0087ff; text-decoration-color: #0087ff\">Functional</span>)              │ (<span style=\"color: #00d7ff; text-decoration-color: #00d7ff\">None</span>, <span style=\"color: #00af00; text-decoration-color: #00af00\">7</span>, <span style=\"color: #00af00; text-decoration-color: #00af00\">7</span>, <span style=\"color: #00af00; text-decoration-color: #00af00\">512</span>)      │    <span style=\"color: #00af00; text-decoration-color: #00af00\">14,714,688</span> │\n",
       "├─────────────────────────────────┼────────────────────────┼───────────────┤\n",
       "│ flatten_layer (<span style=\"color: #0087ff; text-decoration-color: #0087ff\">Flatten</span>)         │ (<span style=\"color: #00d7ff; text-decoration-color: #00d7ff\">None</span>, <span style=\"color: #00af00; text-decoration-color: #00af00\">25088</span>)          │             <span style=\"color: #00af00; text-decoration-color: #00af00\">0</span> │\n",
       "├─────────────────────────────────┼────────────────────────┼───────────────┤\n",
       "│ output_layer (<span style=\"color: #0087ff; text-decoration-color: #0087ff\">Dense</span>)            │ (<span style=\"color: #00d7ff; text-decoration-color: #00d7ff\">None</span>, <span style=\"color: #00af00; text-decoration-color: #00af00\">1</span>)              │        <span style=\"color: #00af00; text-decoration-color: #00af00\">25,089</span> │\n",
       "└─────────────────────────────────┴────────────────────────┴───────────────┘\n",
       "</pre>\n"
      ],
      "text/plain": [
       "┏━━━━━━━━━━━━━━━━━━━━━━━━━━━━━━━━━┳━━━━━━━━━━━━━━━━━━━━━━━━┳━━━━━━━━━━━━━━━┓\n",
       "┃\u001b[1m \u001b[0m\u001b[1mLayer (type)                   \u001b[0m\u001b[1m \u001b[0m┃\u001b[1m \u001b[0m\u001b[1mOutput Shape          \u001b[0m\u001b[1m \u001b[0m┃\u001b[1m \u001b[0m\u001b[1m      Param #\u001b[0m\u001b[1m \u001b[0m┃\n",
       "┡━━━━━━━━━━━━━━━━━━━━━━━━━━━━━━━━━╇━━━━━━━━━━━━━━━━━━━━━━━━╇━━━━━━━━━━━━━━━┩\n",
       "│ input_layer (\u001b[38;5;33mInputLayer\u001b[0m)        │ (\u001b[38;5;45mNone\u001b[0m, \u001b[38;5;34m224\u001b[0m, \u001b[38;5;34m224\u001b[0m, \u001b[38;5;34m3\u001b[0m)    │             \u001b[38;5;34m0\u001b[0m │\n",
       "├─────────────────────────────────┼────────────────────────┼───────────────┤\n",
       "│ rescaling_layer (\u001b[38;5;33mRescaling\u001b[0m)     │ (\u001b[38;5;45mNone\u001b[0m, \u001b[38;5;34m224\u001b[0m, \u001b[38;5;34m224\u001b[0m, \u001b[38;5;34m3\u001b[0m)    │             \u001b[38;5;34m0\u001b[0m │\n",
       "├─────────────────────────────────┼────────────────────────┼───────────────┤\n",
       "│ vgg16 (\u001b[38;5;33mFunctional\u001b[0m)              │ (\u001b[38;5;45mNone\u001b[0m, \u001b[38;5;34m7\u001b[0m, \u001b[38;5;34m7\u001b[0m, \u001b[38;5;34m512\u001b[0m)      │    \u001b[38;5;34m14,714,688\u001b[0m │\n",
       "├─────────────────────────────────┼────────────────────────┼───────────────┤\n",
       "│ flatten_layer (\u001b[38;5;33mFlatten\u001b[0m)         │ (\u001b[38;5;45mNone\u001b[0m, \u001b[38;5;34m25088\u001b[0m)          │             \u001b[38;5;34m0\u001b[0m │\n",
       "├─────────────────────────────────┼────────────────────────┼───────────────┤\n",
       "│ output_layer (\u001b[38;5;33mDense\u001b[0m)            │ (\u001b[38;5;45mNone\u001b[0m, \u001b[38;5;34m1\u001b[0m)              │        \u001b[38;5;34m25,089\u001b[0m │\n",
       "└─────────────────────────────────┴────────────────────────┴───────────────┘\n"
      ]
     },
     "metadata": {},
     "output_type": "display_data"
    },
    {
     "data": {
      "text/html": [
       "<pre style=\"white-space:pre;overflow-x:auto;line-height:normal;font-family:Menlo,'DejaVu Sans Mono',consolas,'Courier New',monospace\"><span style=\"font-weight: bold\"> Total params: </span><span style=\"color: #00af00; text-decoration-color: #00af00\">14,789,957</span> (56.42 MB)\n",
       "</pre>\n"
      ],
      "text/plain": [
       "\u001b[1m Total params: \u001b[0m\u001b[38;5;34m14,789,957\u001b[0m (56.42 MB)\n"
      ]
     },
     "metadata": {},
     "output_type": "display_data"
    },
    {
     "data": {
      "text/html": [
       "<pre style=\"white-space:pre;overflow-x:auto;line-height:normal;font-family:Menlo,'DejaVu Sans Mono',consolas,'Courier New',monospace\"><span style=\"font-weight: bold\"> Trainable params: </span><span style=\"color: #00af00; text-decoration-color: #00af00\">25,089</span> (98.00 KB)\n",
       "</pre>\n"
      ],
      "text/plain": [
       "\u001b[1m Trainable params: \u001b[0m\u001b[38;5;34m25,089\u001b[0m (98.00 KB)\n"
      ]
     },
     "metadata": {},
     "output_type": "display_data"
    },
    {
     "data": {
      "text/html": [
       "<pre style=\"white-space:pre;overflow-x:auto;line-height:normal;font-family:Menlo,'DejaVu Sans Mono',consolas,'Courier New',monospace\"><span style=\"font-weight: bold\"> Non-trainable params: </span><span style=\"color: #00af00; text-decoration-color: #00af00\">14,714,688</span> (56.13 MB)\n",
       "</pre>\n"
      ],
      "text/plain": [
       "\u001b[1m Non-trainable params: \u001b[0m\u001b[38;5;34m14,714,688\u001b[0m (56.13 MB)\n"
      ]
     },
     "metadata": {},
     "output_type": "display_data"
    },
    {
     "data": {
      "text/html": [
       "<pre style=\"white-space:pre;overflow-x:auto;line-height:normal;font-family:Menlo,'DejaVu Sans Mono',consolas,'Courier New',monospace\"><span style=\"font-weight: bold\"> Optimizer params: </span><span style=\"color: #00af00; text-decoration-color: #00af00\">50,180</span> (196.02 KB)\n",
       "</pre>\n"
      ],
      "text/plain": [
       "\u001b[1m Optimizer params: \u001b[0m\u001b[38;5;34m50,180\u001b[0m (196.02 KB)\n"
      ]
     },
     "metadata": {},
     "output_type": "display_data"
    }
   ],
   "source": [
    "model.summary()"
   ]
  },
  {
   "cell_type": "code",
   "execution_count": null,
   "metadata": {},
   "outputs": [],
   "source": []
  },
  {
   "cell_type": "code",
   "execution_count": 10,
   "metadata": {},
   "outputs": [],
   "source": [
    "# Update the src/cnn_classifier/entity/config_entity.py file\n",
    "\n",
    "from dataclasses import dataclass\n",
    "from pathlib import Path\n",
    "\n",
    "@dataclass(frozen=True)\n",
    "class EvaluationConfig:\n",
    "    trained_model_path:Path\n",
    "    training_data:Path\n",
    "    testing_data:Path\n",
    "    all_params:dict\n",
    "    mlflow_uri:str\n",
    "    params_image_size:list | tuple\n",
    "    params_batch_size:int"
   ]
  },
  {
   "cell_type": "code",
   "execution_count": null,
   "metadata": {},
   "outputs": [],
   "source": []
  },
  {
   "cell_type": "code",
   "execution_count": 11,
   "metadata": {},
   "outputs": [],
   "source": [
    "# Update the src/cnn_classifier/config/configuration.py file.\n",
    "\n",
    "import os\n",
    "import dagshub\n",
    "from cnn_classifier.constants import *\n",
    "from cnn_classifier.utils.common import read_yaml, create_directories, save_json"
   ]
  },
  {
   "cell_type": "code",
   "execution_count": 12,
   "metadata": {},
   "outputs": [],
   "source": [
    "class ConfigurationManager:\n",
    "\n",
    "    def __init__(self, config_filepath=CONFIG_FILE_PATH, params_filepath=PARAMS_FILE_PATH):\n",
    "\n",
    "        self.config=read_yaml(config_filepath)\n",
    "        self.params=read_yaml(params_filepath)\n",
    "\n",
    "        # Creating directory\n",
    "        create_directories([self.config.artifacts_root])\n",
    "\n",
    "    def initialize_dagshub(self,\n",
    "                           Repo_owner:str='Aakash00004' ,\n",
    "                           Repo_name:str='Chest-Cancer-Classification-Project' ,\n",
    "                           Mlflow:bool=True):\n",
    "        \n",
    "        \"\"\"\n",
    "        Below details of Repo_owner , Repo_name & Mlflow value are collected from the dagshub account under 'remote' option of the repo : Chest-Cancer-Classification-Project\n",
    "        Repo_owner='Aakash00004' ,\n",
    "        Repo_name='Chest-Cancer-Classification-Project' ,\n",
    "        Mlflow=True\n",
    "        \n",
    "        This code initialize a DagsHub repository or DagsHub-related functionality.\n",
    "        \n",
    "        Initialization includes:\n",
    "        Creates a repository on DagsHub if it doesn’t exist yet.\n",
    "\n",
    "        If dvc flag is set, adds the DagsHub repository as a dvc remote.\n",
    "\n",
    "        If mlflow flag is set, initializes MLflow environment variables to enable \n",
    "        logging experiments into the DagsHub hosted MLflow. That means that if you call \n",
    "        dagshub.init() in your script, then any MLflow function called later in the script\n",
    "        will log to the DagsHub hosted MLflow.\n",
    "\n",
    "        \"\"\"\n",
    "        dagshub.init(repo_owner=Repo_owner, \n",
    "                     repo_name=Repo_name, \n",
    "                     mlflow=Mlflow)\n",
    "        \n",
    "    \n",
    "    def get_evaluation_config(self) -> EvaluationConfig:\n",
    "\n",
    "        training_data=Path(os.path.join(self.config.data_ingestion.unzip_dir, r\"data/train\") )\n",
    "        testing_data=Path(os.path.join(self.config.data_ingestion.unzip_dir, r\"data/test\") )\n",
    "        \n",
    "        # calling method\n",
    "        self.initialize_dagshub()\n",
    "\n",
    "        eval_config=EvaluationConfig(\n",
    "            trained_model_path=\"trained_model/training/trained_model.keras\",\n",
    "            training_data=Path(training_data),\n",
    "            testing_data=Path(testing_data),\n",
    "            #mlflow_uri=\"https://dagshub.com/Aakash00004/Chest-Cancer-Classification-Project.mlflow\",\n",
    "            mlflow_uri=os.getenv(\"MLFLOW_TRACKING_URI\"),\n",
    "            all_params=self.params,\n",
    "            params_image_size=self.params.INPUT_SHAPE,\n",
    "            params_batch_size=self.params.BATCH_SIZE\n",
    "        )\n",
    "        \n",
    "        return eval_config"
   ]
  },
  {
   "cell_type": "code",
   "execution_count": null,
   "metadata": {},
   "outputs": [],
   "source": []
  },
  {
   "cell_type": "code",
   "execution_count": 13,
   "metadata": {},
   "outputs": [],
   "source": [
    "# Update the src/cnn_classifier/components/model_evaluation_mlflow.py file\n",
    "\n",
    "import tensorflow as tf\n",
    "from pathlib import Path\n",
    "import mlflow\n",
    "import dagshub\n",
    "import mlflow.keras\n",
    "from urllib.parse import urlparse\n",
    "from tensorflow.keras.utils import image_dataset_from_directory as Images"
   ]
  },
  {
   "cell_type": "code",
   "execution_count": null,
   "metadata": {},
   "outputs": [],
   "source": []
  },
  {
   "cell_type": "code",
   "execution_count": null,
   "metadata": {},
   "outputs": [],
   "source": [
    "class Evaluation:\n",
    "\n",
    "    def __init__(self, config:EvaluationConfig):\n",
    "\n",
    "        self.config = config\n",
    "\n",
    "    def get_trained_model(self):\n",
    "\n",
    "        return tf.keras.models.load_model( self.config.trained_model_path\n",
    "                                         )   \n",
    "                                            \n",
    "    def get_test_data(self):\n",
    "\n",
    "        self.images_test = Images(\n",
    "                            directory=self.config.testing_data,\n",
    "                            labels='inferred',\n",
    "                            label_mode=\"categorical\", # use loss=tf.keras.losses.CategoricalCrossentropy() because label_mode is set to 'categorical'\n",
    "                            image_size = self.config.params_image_size[:-1],\n",
    "                            batch_size = self.config.params_batch_size\n",
    "                            )\n",
    "\n",
    "\n",
    "    def save_eval_score(self):\n",
    "\n",
    "        scores = {\"loss\": self.score[0], \"accuracy\": self.score[1]}\n",
    "        save_json(path=Path(\"ModelEvaluation_scores.json\"), data=scores)\n",
    "\n",
    "\n",
    "    def model_evaluation(self):\n",
    "\n",
    "        # calling method\n",
    "        self.trained_model = self.get_trained_model()\n",
    "        # calling method\n",
    "        self.get_test_data()\n",
    "        \n",
    "        # Evaluating the trained model performance on test data\n",
    "        self.score = self.trained_model.evaluate(self.images_test)\n",
    "        \n",
    "        # calling method\n",
    "        self.save_eval_score()\n",
    "\n",
    "\n",
    "    def log_into_mlflow(self ,Repo_Owner:str='Aakash00004',\n",
    "                        Repo_Name:str='Chest-Cancer-Classification-Project' ,\n",
    "                        MlFlow:bool=True ):\n",
    "\n",
    "        \"\"\"\n",
    "        This initializes the integration with DagsHub for the specified repository.\n",
    "\n",
    "        The mlflow=True argument ensures MLflow logs (parameters, metrics, artifacts) are \n",
    "        synchronized with the DagsHub repository i.e., it sets the registry_uri as well for \n",
    "        MLflow tracking server where runs, parameters, metrics, and artifacts will be logged..\n",
    "\n",
    "        \"\"\"\n",
    "        # No need of below code for  Repository Aakash00004/Chest-Cancer-Classification-Project to be\n",
    "        # initialized! because we've initialized the repo inside the \n",
    "        # method 'get_evaluation_config' of class 'ConfigurationManager' inside src/cnn_classifier/config/configuration.py file\n",
    "          \n",
    "        # dagshub.init(repo_owner=Repo_Owner,\n",
    "        #              repo_name=Repo_Name,\n",
    "        #              mlflow=MlFlow)\n",
    "        \n",
    "        \n",
    "        #For debugging purpose : \n",
    "        # print(\"Mlflow tracking URI\",mlflow.get_tracking_uri())\n",
    "       \n",
    "        tracking_url_type_store = urlparse(mlflow.get_tracking_uri()).scheme\n",
    "        \n",
    "        #For debugging purpose :\n",
    "        #print(\"After dagshub.init of mlflow : \",tracking_url_type_store)\n",
    "        \n",
    "        # Set the experiment name\n",
    "        mlflow.set_experiment(\"My Chest Cancer Experiment\")  \n",
    "        \n",
    "        with mlflow.start_run():\n",
    "\n",
    "            #For debugging purpose :\n",
    "            #print(\"inside mlflow.start_run() \")\n",
    "            \n",
    "            #For debugging purpose :\n",
    "            #print(self.config.all_params)\n",
    "            \n",
    "            mlflow.log_params(self.config.all_params)\n",
    "            mlflow.log_metrics(\n",
    "                                {\"loss\": self.score[0], \"accuracy\": self.score[1] }\n",
    "                            )\n",
    "            \n",
    "            # Model registry does not work with file store\n",
    "            \n",
    "            #For debugging purpose :\n",
    "            #print(\"Before if statement of mlflow tracking_url_type_store : \",tracking_url_type_store)\n",
    "            if tracking_url_type_store != \"file\":\n",
    "\n",
    "                #For debugging purpose :\n",
    "                #print(\"Inside if statement of mlflow tracking_url_type_store : \")\n",
    "\n",
    "                # Register the model\n",
    "                # There are other ways to use the Model Registry, which depends on the use case,\n",
    "                # please refer to the doc for more information:\n",
    "                # https://mlflow.org/docs/latest/model-registry.html#api-workflow\n",
    "                mlflow.keras.log_model(self.trained_model,\n",
    "                                       \"model\",\n",
    "                                       registered_model_name=\"Custom_VGG16_Model\")\n",
    "\n",
    "            else:\n",
    "\n",
    "                #For debugging purpose :\n",
    "                #print(\"Inside else statment of mlflow\")\n",
    "                mlflow.keras.log_model(self.trained_model, \"model\")\n",
    "        "
   ]
  },
  {
   "cell_type": "code",
   "execution_count": null,
   "metadata": {},
   "outputs": [],
   "source": []
  },
  {
   "cell_type": "code",
   "execution_count": null,
   "metadata": {},
   "outputs": [
    {
     "name": "stdout",
     "output_type": "stream",
     "text": [
      "[2025-04-26 09:04:39,639 : INFO : common : yaml file : config\\config.yaml loaded successfully]\n",
      "[2025-04-26 09:04:39,639 : INFO : common : yaml file : params.yaml loaded successfully]\n",
      "[2025-04-26 09:04:39,639 : INFO : common : Created directory at : artifacts]\n",
      "[2025-04-26 09:04:40,161 : INFO : _client : HTTP Request: GET https://dagshub.com/api/v1/user \"HTTP/1.1 200 OK\"]\n"
     ]
    },
    {
     "data": {
      "text/html": [
       "<pre style=\"white-space:pre;overflow-x:auto;line-height:normal;font-family:Menlo,'DejaVu Sans Mono',consolas,'Courier New',monospace\">Accessing as Aakash00004\n",
       "</pre>\n"
      ],
      "text/plain": [
       "Accessing as Aakash00004\n"
      ]
     },
     "metadata": {},
     "output_type": "display_data"
    },
    {
     "name": "stdout",
     "output_type": "stream",
     "text": [
      "[2025-04-26 09:04:40,168 : INFO : helpers : Accessing as Aakash00004]\n",
      "[2025-04-26 09:04:40,725 : INFO : _client : HTTP Request: GET https://dagshub.com/api/v1/repos/Aakash00004/Chest-Cancer-Classification-Project \"HTTP/1.1 200 OK\"]\n",
      "[2025-04-26 09:04:41,243 : INFO : _client : HTTP Request: GET https://dagshub.com/api/v1/user \"HTTP/1.1 200 OK\"]\n"
     ]
    },
    {
     "data": {
      "text/html": [
       "<pre style=\"white-space:pre;overflow-x:auto;line-height:normal;font-family:Menlo,'DejaVu Sans Mono',consolas,'Courier New',monospace\">Initialized MLflow to track repo <span style=\"color: #008000; text-decoration-color: #008000\">\"Aakash00004/Chest-Cancer-Classification-Project\"</span>\n",
       "</pre>\n"
      ],
      "text/plain": [
       "Initialized MLflow to track repo \u001b[32m\"Aakash00004/Chest-Cancer-Classification-Project\"\u001b[0m\n"
      ]
     },
     "metadata": {},
     "output_type": "display_data"
    },
    {
     "name": "stdout",
     "output_type": "stream",
     "text": [
      "[2025-04-26 09:04:41,247 : INFO : helpers : Initialized MLflow to track repo \"Aakash00004/Chest-Cancer-Classification-Project\"]\n"
     ]
    },
    {
     "data": {
      "text/html": [
       "<pre style=\"white-space:pre;overflow-x:auto;line-height:normal;font-family:Menlo,'DejaVu Sans Mono',consolas,'Courier New',monospace\">Repository Aakash00004/Chest-Cancer-Classification-Project initialized!\n",
       "</pre>\n"
      ],
      "text/plain": [
       "Repository Aakash00004/Chest-Cancer-Classification-Project initialized!\n"
      ]
     },
     "metadata": {},
     "output_type": "display_data"
    },
    {
     "name": "stdout",
     "output_type": "stream",
     "text": [
      "[2025-04-26 09:04:41,247 : INFO : helpers : Repository Aakash00004/Chest-Cancer-Classification-Project initialized!]\n",
      "Found 174 files belonging to 2 classes.\n",
      "\u001b[1m11/11\u001b[0m \u001b[32m━━━━━━━━━━━━━━━━━━━━\u001b[0m\u001b[37m\u001b[0m \u001b[1m6s\u001b[0m 477ms/step - accuracy: 0.9785 - loss: 0.1537\n",
      "[2025-04-26 09:04:46,938 : INFO : common : json file saved at : ModelEvaluation_scores.json]\n"
     ]
    },
    {
     "name": "stderr",
     "output_type": "stream",
     "text": [
      "2025/04/26 09:04:48 WARNING mlflow.keras.save: You are saving a Keras model without specifying model signature.\n",
      "2025/04/26 09:04:54 WARNING mlflow.models.model: Model logged without a signature and input example. Please set `input_example` parameter when logging the model to auto infer the model signature.\n",
      "Registered model 'Custom_VGG16_Model' already exists. Creating a new version of this model...\n",
      "2025/04/26 09:05:20 INFO mlflow.store.model_registry.abstract_store: Waiting up to 300 seconds for model version to finish creation. Model name: Custom_VGG16_Model, version 9\n",
      "Created version '9' of model 'Custom_VGG16_Model'.\n"
     ]
    },
    {
     "name": "stdout",
     "output_type": "stream",
     "text": [
      "🏃 View run abundant-newt-841 at: https://dagshub.com/Aakash00004/Chest-Cancer-Classification-Project.mlflow/#/experiments/1/runs/ad557fb7282d4dffa065fc9fc79c3e8e\n",
      "🧪 View experiment at: https://dagshub.com/Aakash00004/Chest-Cancer-Classification-Project.mlflow/#/experiments/1\n"
     ]
    }
   ],
   "source": [
    "# Pipeline : update the src/cnn_classifier/pipeline/Stage04_model_evaluation_mlflow.py file\n",
    "\n",
    "try:\n",
    "    \n",
    "    config = ConfigurationManager()\n",
    "    eval_config = config.get_evaluation_config()\n",
    "    evaluation = Evaluation(eval_config)\n",
    "    evaluation.model_evaluation()\n",
    "    # comment below line while deploying the project to production because there we dont want expermient tracking and model logging\n",
    "    #evaluation.log_into_mlflow()\n",
    "\n",
    "except Exception as e:\n",
    "   raise e"
   ]
  },
  {
   "cell_type": "code",
   "execution_count": null,
   "metadata": {},
   "outputs": [],
   "source": []
  },
  {
   "cell_type": "code",
   "execution_count": null,
   "metadata": {},
   "outputs": [],
   "source": []
  },
  {
   "cell_type": "code",
   "execution_count": 16,
   "metadata": {},
   "outputs": [],
   "source": [
    "# mlflow_uri=\"https://dagshub.com/Aakash00004/Chest-Cancer-Classification-Project.mlflow\"\n",
    "# mlflow.set_registry_uri(mlflow_uri)"
   ]
  },
  {
   "cell_type": "code",
   "execution_count": 17,
   "metadata": {},
   "outputs": [
    {
     "data": {
      "text/plain": [
       "'https://dagshub.com/Aakash00004/Chest-Cancer-Classification-Project.mlflow'"
      ]
     },
     "execution_count": 17,
     "metadata": {},
     "output_type": "execute_result"
    }
   ],
   "source": [
    "mlflow.get_registry_uri()"
   ]
  },
  {
   "cell_type": "code",
   "execution_count": 18,
   "metadata": {},
   "outputs": [
    {
     "data": {
      "text/plain": [
       "'https://dagshub.com/Aakash00004/Chest-Cancer-Classification-Project.mlflow'"
      ]
     },
     "execution_count": 18,
     "metadata": {},
     "output_type": "execute_result"
    }
   ],
   "source": [
    "mlflow.get_tracking_uri()"
   ]
  },
  {
   "cell_type": "code",
   "execution_count": 19,
   "metadata": {},
   "outputs": [
    {
     "data": {
      "text/plain": [
       "ParseResult(scheme='https', netloc='dagshub.com', path='/Aakash00004/Chest-Cancer-Classification-Project.mlflow', params='', query='', fragment='')"
      ]
     },
     "execution_count": 19,
     "metadata": {},
     "output_type": "execute_result"
    }
   ],
   "source": [
    "urlparse(mlflow.get_tracking_uri())"
   ]
  },
  {
   "cell_type": "code",
   "execution_count": 20,
   "metadata": {},
   "outputs": [
    {
     "data": {
      "text/plain": [
       "'https'"
      ]
     },
     "execution_count": 20,
     "metadata": {},
     "output_type": "execute_result"
    }
   ],
   "source": [
    "urlparse(mlflow.get_tracking_uri()).scheme "
   ]
  },
  {
   "cell_type": "code",
   "execution_count": null,
   "metadata": {},
   "outputs": [],
   "source": []
  },
  {
   "cell_type": "code",
   "execution_count": 21,
   "metadata": {},
   "outputs": [
    {
     "name": "stdout",
     "output_type": "stream",
     "text": [
      "hello\n"
     ]
    }
   ],
   "source": [
    "if urlparse(mlflow.get_tracking_uri()).scheme  != \"file\":\n",
    "\n",
    "    print(\"hello\")"
   ]
  },
  {
   "cell_type": "code",
   "execution_count": null,
   "metadata": {},
   "outputs": [],
   "source": []
  },
  {
   "cell_type": "code",
   "execution_count": null,
   "metadata": {},
   "outputs": [],
   "source": []
  }
 ],
 "metadata": {
  "kernelspec": {
   "display_name": "tensorflow",
   "language": "python",
   "name": "python3"
  },
  "language_info": {
   "codemirror_mode": {
    "name": "ipython",
    "version": 3
   },
   "file_extension": ".py",
   "mimetype": "text/x-python",
   "name": "python",
   "nbconvert_exporter": "python",
   "pygments_lexer": "ipython3",
   "version": "3.12.9"
  }
 },
 "nbformat": 4,
 "nbformat_minor": 2
}

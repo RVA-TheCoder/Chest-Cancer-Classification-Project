{
 "cells": [
  {
   "cell_type": "code",
   "execution_count": 1,
   "metadata": {},
   "outputs": [],
   "source": [
    "import os"
   ]
  },
  {
   "cell_type": "code",
   "execution_count": 2,
   "metadata": {},
   "outputs": [
    {
     "data": {
      "text/plain": [
       "'e:\\\\STUDY\\\\TENSORFLOW\\\\Projects\\\\1_CNN_Project\\\\research'"
      ]
     },
     "execution_count": 2,
     "metadata": {},
     "output_type": "execute_result"
    }
   ],
   "source": [
    "os.getcwd()"
   ]
  },
  {
   "cell_type": "code",
   "execution_count": 3,
   "metadata": {},
   "outputs": [],
   "source": [
    "os.chdir(\"../\")"
   ]
  },
  {
   "cell_type": "code",
   "execution_count": 4,
   "metadata": {},
   "outputs": [
    {
     "data": {
      "text/plain": [
       "'e:\\\\STUDY\\\\TENSORFLOW\\\\Projects\\\\1_CNN_Project'"
      ]
     },
     "execution_count": 4,
     "metadata": {},
     "output_type": "execute_result"
    }
   ],
   "source": [
    "os.getcwd()"
   ]
  },
  {
   "cell_type": "code",
   "execution_count": 5,
   "metadata": {},
   "outputs": [
    {
     "data": {
      "text/plain": [
       "'\\nInitialize a DagsHub repository or DagsHub-related functionality.\\n\\nInitialization includes:\\nCreates a repository on DagsHub if it doesn’t exist yet.\\n\\nIf dvc flag is set, adds the DagsHub repository as a dvc remote.\\n\\nIf mlflow flag is set, initializes MLflow environment variables to enable \\nlogging experiments into the DagsHub hosted MLflow. That means that if you call \\ndagshub.init() in your script, then any MLflow function called later in the script\\nwill log to the DagsHub hosted MLflow.\\n\\n'"
      ]
     },
     "execution_count": 5,
     "metadata": {},
     "output_type": "execute_result"
    }
   ],
   "source": [
    "import dagshub\n",
    "\n",
    "\"\"\"\n",
    "Initialize a DagsHub repository or DagsHub-related functionality.\n",
    "\n",
    "Initialization includes:\n",
    "Creates a repository on DagsHub if it doesn’t exist yet.\n",
    "\n",
    "If dvc flag is set, adds the DagsHub repository as a dvc remote.\n",
    "\n",
    "If mlflow flag is set, initializes MLflow environment variables to enable \n",
    "logging experiments into the DagsHub hosted MLflow. That means that if you call \n",
    "dagshub.init() in your script, then any MLflow function called later in the script\n",
    "will log to the DagsHub hosted MLflow.\n",
    "\n",
    "\"\"\"\n",
    "# dagshub.init(repo_owner='Aakash00004', repo_name='Chest-Cancer-Classification-Project', mlflow=True)\n",
    "\n",
    "# import mlflow\n",
    "# with mlflow.start_run():\n",
    "#   mlflow.log_param('Learning rate', 0.01)\n",
    "#   mlflow.log_metric('Accuracy', 0.8)"
   ]
  },
  {
   "cell_type": "code",
   "execution_count": 7,
   "metadata": {},
   "outputs": [],
   "source": []
  },
  {
   "cell_type": "code",
   "execution_count": 6,
   "metadata": {},
   "outputs": [],
   "source": [
    "#os.getenv(\"MLFLOW_TRACKING_URI\")"
   ]
  },
  {
   "cell_type": "code",
   "execution_count": 7,
   "metadata": {},
   "outputs": [],
   "source": [
    "# os.getenv(\"MLFLOW_TRACKING_USERNAME\")"
   ]
  },
  {
   "cell_type": "code",
   "execution_count": 8,
   "metadata": {},
   "outputs": [],
   "source": [
    "# '620c670a001ca0eca0af7e36c8140bf200e2e4ed'\n",
    "\n",
    "os.getenv(\"MLFLOW_TRACKING_PASSWORD\")"
   ]
  },
  {
   "cell_type": "code",
   "execution_count": 9,
   "metadata": {},
   "outputs": [],
   "source": [
    "import tensorflow as tf"
   ]
  },
  {
   "cell_type": "code",
   "execution_count": 10,
   "metadata": {},
   "outputs": [],
   "source": [
    "# load the trained model\n",
    "model=tf.keras.models.load_model(\"trained_model/training/trained_model.keras\")"
   ]
  },
  {
   "cell_type": "code",
   "execution_count": 11,
   "metadata": {},
   "outputs": [
    {
     "name": "stdout",
     "output_type": "stream",
     "text": [
      "Model: \"model\"\n",
      "_________________________________________________________________\n",
      " Layer (type)                Output Shape              Param #   \n",
      "=================================================================\n",
      " input_layer (InputLayer)    [(None, 224, 224, 3)]     0         \n",
      "                                                                 \n",
      " data_augmentation_layers (S  (None, 224, 224, 3)      0         \n",
      " equential)                                                      \n",
      "                                                                 \n",
      " model (Functional)          (None, 1)                 14840139  \n",
      "                                                                 \n",
      "=================================================================\n",
      "Total params: 14,840,139\n",
      "Trainable params: 125,451\n",
      "Non-trainable params: 14,714,688\n",
      "_________________________________________________________________\n"
     ]
    }
   ],
   "source": [
    "model.summary()"
   ]
  },
  {
   "cell_type": "code",
   "execution_count": null,
   "metadata": {},
   "outputs": [],
   "source": []
  },
  {
   "cell_type": "code",
   "execution_count": 12,
   "metadata": {},
   "outputs": [],
   "source": [
    "# Update the src/cnn_classifier/entity\n",
    "from dataclasses import dataclass\n",
    "from pathlib import Path\n",
    "\n",
    "@dataclass(frozen=True)\n",
    "class EvaluationConfig:\n",
    "    trained_model_path:Path\n",
    "    training_data:Path\n",
    "    testing_data:Path\n",
    "    all_params:dict\n",
    "    mlflow_uri:str\n",
    "    params_image_size:list | tuple\n",
    "    params_batch_size:int"
   ]
  },
  {
   "cell_type": "code",
   "execution_count": null,
   "metadata": {},
   "outputs": [],
   "source": []
  },
  {
   "cell_type": "code",
   "execution_count": 13,
   "metadata": {},
   "outputs": [],
   "source": [
    "# Update the src/cnn_classifier/config/configuration.\n",
    "from cnn_classifier.constants import *\n",
    "from cnn_classifier.utils.common import read_yaml, create_directories, save_json"
   ]
  },
  {
   "cell_type": "code",
   "execution_count": 14,
   "metadata": {},
   "outputs": [],
   "source": [
    "class ConfigurationManager:\n",
    "\n",
    "    def __init__(self, config_filepath=CONFIG_FILE_PATH, params_filepath=PARAMS_FILE_PATH):\n",
    "\n",
    "        self.config=read_yaml(config_filepath)\n",
    "        self.params=read_yaml(params_filepath)\n",
    "\n",
    "        # Creating directory\n",
    "        create_directories([self.config.artifacts_root])\n",
    "\n",
    "    \n",
    "    def get_evaluation_config(self) -> EvaluationConfig:\n",
    "\n",
    "        training_data=Path(os.path.join(self.config.data_ingestion.unzip_dir, r\"data/train\") )\n",
    "        testing_data=Path(os.path.join(self.config.data_ingestion.unzip_dir, r\"data/test\") )\n",
    "\n",
    "        eval_config=EvaluationConfig(\n",
    "            trained_model_path=\"trained_model/training/trained_model.keras\",\n",
    "            training_data=Path(training_data),\n",
    "            testing_data=Path(testing_data),\n",
    "            mlflow_uri=\"https://dagshub.com/Aakash00004/Chest-Cancer-Classification-Project.mlflow\",\n",
    "            all_params=self.params,\n",
    "            params_image_size=self.params.INPUT_SHAPE,\n",
    "            params_batch_size=self.params.BATCH_SIZE\n",
    "        )\n",
    "        \n",
    "        return eval_config"
   ]
  },
  {
   "cell_type": "code",
   "execution_count": null,
   "metadata": {},
   "outputs": [],
   "source": []
  },
  {
   "cell_type": "code",
   "execution_count": 15,
   "metadata": {},
   "outputs": [],
   "source": [
    "# Update the src/cnn_classifier/components.\n",
    "import tensorflow as tf\n",
    "from pathlib import Path\n",
    "import mlflow\n",
    "import dagshub\n",
    "import mlflow.keras\n",
    "from urllib.parse import urlparse\n",
    "from tensorflow.keras.utils import image_dataset_from_directory as Images"
   ]
  },
  {
   "cell_type": "code",
   "execution_count": null,
   "metadata": {},
   "outputs": [],
   "source": []
  },
  {
   "cell_type": "code",
   "execution_count": 16,
   "metadata": {},
   "outputs": [],
   "source": [
    "class Evaluation:\n",
    "\n",
    "    def __init__(self, config:EvaluationConfig):\n",
    "\n",
    "        self.config = config\n",
    "\n",
    "    def get_trained_model(self):\n",
    "\n",
    "        return tf.keras.models.load_model( self.config.trained_model_path\n",
    "                                         )   \n",
    "                                            \n",
    "    def get_test_data(self):\n",
    "\n",
    "\n",
    "        self.images_test = Images(\n",
    "                            directory=self.config.testing_data,\n",
    "                            labels='inferred',\n",
    "                            image_size = self.config.params_image_size[:-1],\n",
    "                            batch_size = self.config.params_batch_size\n",
    "                            )\n",
    "\n",
    "\n",
    "    def save_score(self):\n",
    "\n",
    "        scores = {\"loss\": self.score[0], \"accuracy\": self.score[1]}\n",
    "        save_json(path=Path(\"scores.json\"), data=scores)\n",
    "\n",
    "    def model_evaluation(self):\n",
    "\n",
    "        self.trained_model = self.get_trained_model()\n",
    "        self.get_test_data()\n",
    "        self.score = self.trained_model.evaluate(self.images_test)\n",
    "        \n",
    "        self.save_score()\n",
    "\n",
    "    def log_into_mlflow(self):\n",
    "\n",
    "        \"\"\"\n",
    "        This initializes the integration with DagsHub for the specified repository.\n",
    "\n",
    "        The mlflow=True argument ensures MLflow logs (parameters, metrics, artifacts) are \n",
    "        synchronized with the DagsHub repository i.e., it sets the registry_uri as well for \n",
    "        MLflow tracking server where runs, parameters, metrics, and artifacts will be logged..\n",
    "\n",
    "        \"\"\"\n",
    "        dagshub.init(repo_owner='Aakash00004', repo_name='Chest-Cancer-Classification-Project', mlflow=True)\n",
    "        #print(\"Mlflow tracking URI\",mlflow.get_tracking_uri())\n",
    "       \n",
    "        tracking_url_type_store = urlparse(mlflow.get_tracking_uri()).scheme\n",
    "        print(\"After dagshub.init of mlflow\",tracking_url_type_store)\n",
    "        \n",
    "        with mlflow.start_run():\n",
    "\n",
    "            mlflow.log_params(self.config.all_params)\n",
    "            mlflow.log_metrics(\n",
    "                                {\"loss\": self.score[0], \"accuracy\": self.score[1]}\n",
    "                            )\n",
    "            # Model registry does not work with file store\n",
    "            #print(\"Before if statment of mlflow\",tracking_url_type_store)\n",
    "            if tracking_url_type_store != \"file\":\n",
    "\n",
    "                print(\"Inside if statement of mlflow\")\n",
    "\n",
    "                # Register the model\n",
    "                # There are other ways to use the Model Registry, which depends on the use case,\n",
    "                # please refer to the doc for more information:\n",
    "                # https://mlflow.org/docs/latest/model-registry.html#api-workflow\n",
    "                mlflow.keras.log_model(self.trained_model, \"model\", registered_model_name=\"Custom_VGG16_Model\")\n",
    "\n",
    "            else:\n",
    "\n",
    "                #print(\"Inside else statment of mlflow\")\n",
    "                mlflow.keras.log_model(self.trained_model, \"model\")\n",
    "        "
   ]
  },
  {
   "cell_type": "code",
   "execution_count": null,
   "metadata": {},
   "outputs": [],
   "source": []
  },
  {
   "cell_type": "code",
   "execution_count": 17,
   "metadata": {},
   "outputs": [
    {
     "name": "stdout",
     "output_type": "stream",
     "text": [
      "[2025-01-09 09:50:16,409 : INFO : common : yaml file : config\\config.yaml loaded successfully]\n",
      "[2025-01-09 09:50:16,409 : INFO : common : yaml file : params.yaml loaded successfully]\n",
      "[2025-01-09 09:50:16,409 : INFO : common : Created directory at : artifacts]\n",
      "Found 174 files belonging to 2 classes.\n",
      "11/11 [==============================] - 73s 6s/step - loss: 0.6733 - accuracy: 0.6897\n",
      "[2025-01-09 09:51:30,950 : INFO : common : json file saved at : scores.json]\n",
      "[2025-01-09 09:51:32,402 : INFO : _client : HTTP Request: GET https://dagshub.com/api/v1/user \"HTTP/1.1 200 OK\"]\n"
     ]
    },
    {
     "data": {
      "text/html": [
       "<pre style=\"white-space:pre;overflow-x:auto;line-height:normal;font-family:Menlo,'DejaVu Sans Mono',consolas,'Courier New',monospace\">Accessing as Aakash00004\n",
       "</pre>\n"
      ],
      "text/plain": [
       "Accessing as Aakash00004\n"
      ]
     },
     "metadata": {},
     "output_type": "display_data"
    },
    {
     "name": "stdout",
     "output_type": "stream",
     "text": [
      "[2025-01-09 09:51:32,426 : INFO : helpers : Accessing as Aakash00004]\n",
      "[2025-01-09 09:51:33,757 : INFO : _client : HTTP Request: GET https://dagshub.com/api/v1/repos/Aakash00004/Chest-Cancer-Classification-Project \"HTTP/1.1 200 OK\"]\n",
      "[2025-01-09 09:51:34,844 : INFO : _client : HTTP Request: GET https://dagshub.com/api/v1/user \"HTTP/1.1 200 OK\"]\n"
     ]
    },
    {
     "data": {
      "text/html": [
       "<pre style=\"white-space:pre;overflow-x:auto;line-height:normal;font-family:Menlo,'DejaVu Sans Mono',consolas,'Courier New',monospace\">Initialized MLflow to track repo <span style=\"color: #008000; text-decoration-color: #008000\">\"Aakash00004/Chest-Cancer-Classification-Project\"</span>\n",
       "</pre>\n"
      ],
      "text/plain": [
       "Initialized MLflow to track repo \u001b[32m\"Aakash00004/Chest-Cancer-Classification-Project\"\u001b[0m\n"
      ]
     },
     "metadata": {},
     "output_type": "display_data"
    },
    {
     "name": "stdout",
     "output_type": "stream",
     "text": [
      "[2025-01-09 09:51:34,868 : INFO : helpers : Initialized MLflow to track repo \"Aakash00004/Chest-Cancer-Classification-Project\"]\n"
     ]
    },
    {
     "data": {
      "text/html": [
       "<pre style=\"white-space:pre;overflow-x:auto;line-height:normal;font-family:Menlo,'DejaVu Sans Mono',consolas,'Courier New',monospace\">Repository Aakash00004/Chest-Cancer-Classification-Project initialized!\n",
       "</pre>\n"
      ],
      "text/plain": [
       "Repository Aakash00004/Chest-Cancer-Classification-Project initialized!\n"
      ]
     },
     "metadata": {},
     "output_type": "display_data"
    },
    {
     "name": "stdout",
     "output_type": "stream",
     "text": [
      "[2025-01-09 09:51:34,891 : INFO : helpers : Repository Aakash00004/Chest-Cancer-Classification-Project initialized!]\n",
      "Mlflow tracking URI https://dagshub.com/Aakash00004/Chest-Cancer-Classification-Project.mlflow\n",
      "Before dagshub.init of mlflow https\n",
      "After dagshub.init of mlflow https\n"
     ]
    },
    {
     "name": "stderr",
     "output_type": "stream",
     "text": [
      "2025/01/09 09:51:37 WARNING mlflow.tensorflow: You are saving a TensorFlow Core model or Keras model without a signature. Inference with mlflow.pyfunc.spark_udf() will not work unless the model's pyfunc representation accepts pandas DataFrames as inference inputs.\n"
     ]
    },
    {
     "name": "stdout",
     "output_type": "stream",
     "text": [
      "Before if statment of mlflow https\n",
      "Inside if statement of mlflow\n",
      "[2025-01-09 09:51:44,221 : WARNING : save : Found untraced functions such as _update_step_xla, _jit_compiled_convolution_op, _jit_compiled_convolution_op, _jit_compiled_convolution_op, _jit_compiled_convolution_op while saving (showing 5 of 14). These functions will not be directly callable after loading.]\n",
      "INFO:tensorflow:Assets written to: C:\\Users\\aakas\\AppData\\Local\\Temp\\tmp140qll37\\model\\data\\model\\assets\n",
      "[2025-01-09 09:51:46,796 : INFO : builder_impl : Assets written to: C:\\Users\\aakas\\AppData\\Local\\Temp\\tmp140qll37\\model\\data\\model\\assets]\n"
     ]
    },
    {
     "name": "stderr",
     "output_type": "stream",
     "text": [
      "c:\\Users\\aakas\\anaconda3\\envs\\CNN_Project\\lib\\site-packages\\_distutils_hack\\__init__.py:31: UserWarning: Setuptools is replacing distutils. Support for replacing an already imported distutils is deprecated. In the future, this condition will fail. Register concerns at https://github.com/pypa/setuptools/issues/new?template=distutils-deprecation.yml\n",
      "  warnings.warn(\n",
      "Registered model 'Custom_VGG16_Model' already exists. Creating a new version of this model...\n",
      "2025/01/09 09:52:41 INFO mlflow.tracking._model_registry.client: Waiting up to 300 seconds for model version to finish creation.                     Model name: Custom_VGG16_Model, version 4\n",
      "Created version '4' of model 'Custom_VGG16_Model'.\n"
     ]
    }
   ],
   "source": [
    "# src/cnn_classifier/pipeline\n",
    "try:\n",
    "    config = ConfigurationManager()\n",
    "    eval_config = config.get_evaluation_config()\n",
    "    evaluation = Evaluation(eval_config)\n",
    "    evaluation.model_evaluation()\n",
    "    evaluation.log_into_mlflow()\n",
    "\n",
    "except Exception as e:\n",
    "   raise e"
   ]
  },
  {
   "cell_type": "code",
   "execution_count": null,
   "metadata": {},
   "outputs": [],
   "source": []
  },
  {
   "cell_type": "code",
   "execution_count": 18,
   "metadata": {},
   "outputs": [],
   "source": [
    "mlflow_uri=\"https://dagshub.com/Aakash00004/Chest-Cancer-Classification-Project.mlflow\"\n",
    "mlflow.set_registry_uri(mlflow_uri)\n"
   ]
  },
  {
   "cell_type": "code",
   "execution_count": 19,
   "metadata": {},
   "outputs": [
    {
     "data": {
      "text/plain": [
       "'https://dagshub.com/Aakash00004/Chest-Cancer-Classification-Project.mlflow'"
      ]
     },
     "execution_count": 19,
     "metadata": {},
     "output_type": "execute_result"
    }
   ],
   "source": [
    "mlflow.get_registry_uri()"
   ]
  },
  {
   "cell_type": "code",
   "execution_count": 20,
   "metadata": {},
   "outputs": [
    {
     "data": {
      "text/plain": [
       "'https://dagshub.com/Aakash00004/Chest-Cancer-Classification-Project.mlflow'"
      ]
     },
     "execution_count": 20,
     "metadata": {},
     "output_type": "execute_result"
    }
   ],
   "source": [
    "mlflow.get_tracking_uri()"
   ]
  },
  {
   "cell_type": "code",
   "execution_count": 21,
   "metadata": {},
   "outputs": [
    {
     "data": {
      "text/plain": [
       "ParseResult(scheme='https', netloc='dagshub.com', path='/Aakash00004/Chest-Cancer-Classification-Project.mlflow', params='', query='', fragment='')"
      ]
     },
     "execution_count": 21,
     "metadata": {},
     "output_type": "execute_result"
    }
   ],
   "source": [
    "urlparse(mlflow.get_tracking_uri())"
   ]
  },
  {
   "cell_type": "code",
   "execution_count": 22,
   "metadata": {},
   "outputs": [
    {
     "data": {
      "text/plain": [
       "'https'"
      ]
     },
     "execution_count": 22,
     "metadata": {},
     "output_type": "execute_result"
    }
   ],
   "source": [
    "urlparse(mlflow.get_tracking_uri()).scheme "
   ]
  },
  {
   "cell_type": "code",
   "execution_count": null,
   "metadata": {},
   "outputs": [],
   "source": []
  },
  {
   "cell_type": "code",
   "execution_count": 23,
   "metadata": {},
   "outputs": [
    {
     "name": "stdout",
     "output_type": "stream",
     "text": [
      "[2025-01-09 09:52:44,736 : INFO : _client : HTTP Request: GET https://dagshub.com/api/v1/repos/Aakash00004/Chest-Cancer-Classification-Project \"HTTP/1.1 200 OK\"]\n"
     ]
    },
    {
     "data": {
      "text/html": [
       "<pre style=\"white-space:pre;overflow-x:auto;line-height:normal;font-family:Menlo,'DejaVu Sans Mono',consolas,'Courier New',monospace\">Initialized MLflow to track repo <span style=\"color: #008000; text-decoration-color: #008000\">\"Aakash00004/Chest-Cancer-Classification-Project\"</span>\n",
       "</pre>\n"
      ],
      "text/plain": [
       "Initialized MLflow to track repo \u001b[32m\"Aakash00004/Chest-Cancer-Classification-Project\"\u001b[0m\n"
      ]
     },
     "metadata": {},
     "output_type": "display_data"
    },
    {
     "name": "stdout",
     "output_type": "stream",
     "text": [
      "[2025-01-09 09:52:44,748 : INFO : helpers : Initialized MLflow to track repo \"Aakash00004/Chest-Cancer-Classification-Project\"]\n"
     ]
    },
    {
     "data": {
      "text/html": [
       "<pre style=\"white-space:pre;overflow-x:auto;line-height:normal;font-family:Menlo,'DejaVu Sans Mono',consolas,'Courier New',monospace\">Repository Aakash00004/Chest-Cancer-Classification-Project initialized!\n",
       "</pre>\n"
      ],
      "text/plain": [
       "Repository Aakash00004/Chest-Cancer-Classification-Project initialized!\n"
      ]
     },
     "metadata": {},
     "output_type": "display_data"
    },
    {
     "name": "stdout",
     "output_type": "stream",
     "text": [
      "[2025-01-09 09:52:44,756 : INFO : helpers : Repository Aakash00004/Chest-Cancer-Classification-Project initialized!]\n"
     ]
    }
   ],
   "source": [
    "\n",
    "dags_result=dagshub.init(repo_owner='Aakash00004', \n",
    "                         repo_name='Chest-Cancer-Classification-Project', \n",
    "                         mlflow=True)\n",
    "\n"
   ]
  },
  {
   "cell_type": "code",
   "execution_count": 24,
   "metadata": {},
   "outputs": [],
   "source": [
    "dags_result "
   ]
  },
  {
   "cell_type": "code",
   "execution_count": null,
   "metadata": {},
   "outputs": [],
   "source": []
  },
  {
   "cell_type": "code",
   "execution_count": 25,
   "metadata": {},
   "outputs": [
    {
     "name": "stdout",
     "output_type": "stream",
     "text": [
      "hello\n"
     ]
    }
   ],
   "source": [
    "if urlparse(mlflow.get_tracking_uri()).scheme  != \"file\":\n",
    "\n",
    "    print(\"hello\")"
   ]
  },
  {
   "cell_type": "code",
   "execution_count": null,
   "metadata": {},
   "outputs": [],
   "source": []
  },
  {
   "cell_type": "code",
   "execution_count": null,
   "metadata": {},
   "outputs": [],
   "source": []
  }
 ],
 "metadata": {
  "kernelspec": {
   "display_name": "CNN_Project",
   "language": "python",
   "name": "python3"
  },
  "language_info": {
   "codemirror_mode": {
    "name": "ipython",
    "version": 3
   },
   "file_extension": ".py",
   "mimetype": "text/x-python",
   "name": "python",
   "nbconvert_exporter": "python",
   "pygments_lexer": "ipython3",
   "version": "3.10.15"
  }
 },
 "nbformat": 4,
 "nbformat_minor": 2
}
